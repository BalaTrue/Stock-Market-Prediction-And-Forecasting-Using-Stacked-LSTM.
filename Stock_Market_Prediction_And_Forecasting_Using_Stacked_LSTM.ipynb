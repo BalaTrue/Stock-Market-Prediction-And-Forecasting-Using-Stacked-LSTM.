{
  "nbformat": 4,
  "nbformat_minor": 0,
  "metadata": {
    "colab": {
      "name": "Stock Market Prediction And Forecasting Using Stacked LSTM.ipynb",
      "provenance": [],
      "collapsed_sections": []
    },
    "kernelspec": {
      "name": "python3",
      "display_name": "Python 3"
    },
    "language_info": {
      "name": "python"
    }
  },
  "cells": [
    {
      "cell_type": "markdown",
      "metadata": {
        "id": "gFi4UMcSlcth"
      },
      "source": [
        "# **Stock Market Prediction And Forecasting Using Stacked LSTM**"
      ]
    },
    {
      "cell_type": "markdown",
      "metadata": {
        "id": "f9TiXTL4jGvh"
      },
      "source": [
        "**Importing libraries**"
      ]
    },
    {
      "cell_type": "code",
      "metadata": {
        "id": "Jbavuf2ljZJw"
      },
      "source": [
        "import pandas as pd\n",
        "import numpy as np\n",
        "import matplotlib.pyplot as plt\n",
        "import seaborn as sns\n",
        "from datetime import datetime, timedelta\n",
        "from matplotlib import dates as mpl_dates\n"
      ],
      "execution_count": 5,
      "outputs": []
    },
    {
      "cell_type": "markdown",
      "metadata": {
        "id": "edq0EqwsjN6S"
      },
      "source": [
        "**Loading data**"
      ]
    },
    {
      "cell_type": "code",
      "metadata": {
        "colab": {
          "base_uri": "https://localhost:8080/",
          "height": 206
        },
        "id": "Jq4LXed75jMx",
        "outputId": "02ad1f6b-17da-4620-ac31-b34b8dc36547"
      },
      "source": [
        "df=pd.read_csv(r\"/content/NSE-TATAGLOBAL.csv\")\n",
        "df.head()"
      ],
      "execution_count": 6,
      "outputs": [
        {
          "output_type": "execute_result",
          "data": {
            "text/html": [
              "<div>\n",
              "<style scoped>\n",
              "    .dataframe tbody tr th:only-of-type {\n",
              "        vertical-align: middle;\n",
              "    }\n",
              "\n",
              "    .dataframe tbody tr th {\n",
              "        vertical-align: top;\n",
              "    }\n",
              "\n",
              "    .dataframe thead th {\n",
              "        text-align: right;\n",
              "    }\n",
              "</style>\n",
              "<table border=\"1\" class=\"dataframe\">\n",
              "  <thead>\n",
              "    <tr style=\"text-align: right;\">\n",
              "      <th></th>\n",
              "      <th>Date</th>\n",
              "      <th>Open</th>\n",
              "      <th>High</th>\n",
              "      <th>Low</th>\n",
              "      <th>Last</th>\n",
              "      <th>Close</th>\n",
              "      <th>Total Trade Quantity</th>\n",
              "      <th>Turnover (Lacs)</th>\n",
              "    </tr>\n",
              "  </thead>\n",
              "  <tbody>\n",
              "    <tr>\n",
              "      <th>0</th>\n",
              "      <td>2018-09-28</td>\n",
              "      <td>234.05</td>\n",
              "      <td>235.95</td>\n",
              "      <td>230.20</td>\n",
              "      <td>233.50</td>\n",
              "      <td>233.75</td>\n",
              "      <td>3069914</td>\n",
              "      <td>7162.35</td>\n",
              "    </tr>\n",
              "    <tr>\n",
              "      <th>1</th>\n",
              "      <td>2018-09-27</td>\n",
              "      <td>234.55</td>\n",
              "      <td>236.80</td>\n",
              "      <td>231.10</td>\n",
              "      <td>233.80</td>\n",
              "      <td>233.25</td>\n",
              "      <td>5082859</td>\n",
              "      <td>11859.95</td>\n",
              "    </tr>\n",
              "    <tr>\n",
              "      <th>2</th>\n",
              "      <td>2018-09-26</td>\n",
              "      <td>240.00</td>\n",
              "      <td>240.00</td>\n",
              "      <td>232.50</td>\n",
              "      <td>235.00</td>\n",
              "      <td>234.25</td>\n",
              "      <td>2240909</td>\n",
              "      <td>5248.60</td>\n",
              "    </tr>\n",
              "    <tr>\n",
              "      <th>3</th>\n",
              "      <td>2018-09-25</td>\n",
              "      <td>233.30</td>\n",
              "      <td>236.75</td>\n",
              "      <td>232.00</td>\n",
              "      <td>236.25</td>\n",
              "      <td>236.10</td>\n",
              "      <td>2349368</td>\n",
              "      <td>5503.90</td>\n",
              "    </tr>\n",
              "    <tr>\n",
              "      <th>4</th>\n",
              "      <td>2018-09-24</td>\n",
              "      <td>233.55</td>\n",
              "      <td>239.20</td>\n",
              "      <td>230.75</td>\n",
              "      <td>234.00</td>\n",
              "      <td>233.30</td>\n",
              "      <td>3423509</td>\n",
              "      <td>7999.55</td>\n",
              "    </tr>\n",
              "  </tbody>\n",
              "</table>\n",
              "</div>"
            ],
            "text/plain": [
              "         Date    Open    High  ...   Close  Total Trade Quantity  Turnover (Lacs)\n",
              "0  2018-09-28  234.05  235.95  ...  233.75               3069914          7162.35\n",
              "1  2018-09-27  234.55  236.80  ...  233.25               5082859         11859.95\n",
              "2  2018-09-26  240.00  240.00  ...  234.25               2240909          5248.60\n",
              "3  2018-09-25  233.30  236.75  ...  236.10               2349368          5503.90\n",
              "4  2018-09-24  233.55  239.20  ...  233.30               3423509          7999.55\n",
              "\n",
              "[5 rows x 8 columns]"
            ]
          },
          "metadata": {},
          "execution_count": 6
        }
      ]
    },
    {
      "cell_type": "markdown",
      "metadata": {
        "id": "1nezM2hVjSac"
      },
      "source": [
        "**Cheking data**"
      ]
    },
    {
      "cell_type": "code",
      "metadata": {
        "colab": {
          "base_uri": "https://localhost:8080/",
          "height": 206
        },
        "id": "phpAtbvmKmbT",
        "outputId": "052fd7f9-334d-4e93-eb59-04b497e10f0f"
      },
      "source": [
        "df.tail()"
      ],
      "execution_count": 7,
      "outputs": [
        {
          "output_type": "execute_result",
          "data": {
            "text/html": [
              "<div>\n",
              "<style scoped>\n",
              "    .dataframe tbody tr th:only-of-type {\n",
              "        vertical-align: middle;\n",
              "    }\n",
              "\n",
              "    .dataframe tbody tr th {\n",
              "        vertical-align: top;\n",
              "    }\n",
              "\n",
              "    .dataframe thead th {\n",
              "        text-align: right;\n",
              "    }\n",
              "</style>\n",
              "<table border=\"1\" class=\"dataframe\">\n",
              "  <thead>\n",
              "    <tr style=\"text-align: right;\">\n",
              "      <th></th>\n",
              "      <th>Date</th>\n",
              "      <th>Open</th>\n",
              "      <th>High</th>\n",
              "      <th>Low</th>\n",
              "      <th>Last</th>\n",
              "      <th>Close</th>\n",
              "      <th>Total Trade Quantity</th>\n",
              "      <th>Turnover (Lacs)</th>\n",
              "    </tr>\n",
              "  </thead>\n",
              "  <tbody>\n",
              "    <tr>\n",
              "      <th>2030</th>\n",
              "      <td>2010-07-27</td>\n",
              "      <td>117.6</td>\n",
              "      <td>119.50</td>\n",
              "      <td>112.00</td>\n",
              "      <td>118.80</td>\n",
              "      <td>118.65</td>\n",
              "      <td>586100</td>\n",
              "      <td>694.98</td>\n",
              "    </tr>\n",
              "    <tr>\n",
              "      <th>2031</th>\n",
              "      <td>2010-07-26</td>\n",
              "      <td>120.1</td>\n",
              "      <td>121.00</td>\n",
              "      <td>117.10</td>\n",
              "      <td>117.10</td>\n",
              "      <td>117.60</td>\n",
              "      <td>658440</td>\n",
              "      <td>780.01</td>\n",
              "    </tr>\n",
              "    <tr>\n",
              "      <th>2032</th>\n",
              "      <td>2010-07-23</td>\n",
              "      <td>121.8</td>\n",
              "      <td>121.95</td>\n",
              "      <td>120.25</td>\n",
              "      <td>120.35</td>\n",
              "      <td>120.65</td>\n",
              "      <td>281312</td>\n",
              "      <td>340.31</td>\n",
              "    </tr>\n",
              "    <tr>\n",
              "      <th>2033</th>\n",
              "      <td>2010-07-22</td>\n",
              "      <td>120.3</td>\n",
              "      <td>122.00</td>\n",
              "      <td>120.25</td>\n",
              "      <td>120.75</td>\n",
              "      <td>120.90</td>\n",
              "      <td>293312</td>\n",
              "      <td>355.17</td>\n",
              "    </tr>\n",
              "    <tr>\n",
              "      <th>2034</th>\n",
              "      <td>2010-07-21</td>\n",
              "      <td>122.1</td>\n",
              "      <td>123.00</td>\n",
              "      <td>121.05</td>\n",
              "      <td>121.10</td>\n",
              "      <td>121.55</td>\n",
              "      <td>658666</td>\n",
              "      <td>803.56</td>\n",
              "    </tr>\n",
              "  </tbody>\n",
              "</table>\n",
              "</div>"
            ],
            "text/plain": [
              "            Date   Open    High  ...   Close  Total Trade Quantity  Turnover (Lacs)\n",
              "2030  2010-07-27  117.6  119.50  ...  118.65                586100           694.98\n",
              "2031  2010-07-26  120.1  121.00  ...  117.60                658440           780.01\n",
              "2032  2010-07-23  121.8  121.95  ...  120.65                281312           340.31\n",
              "2033  2010-07-22  120.3  122.00  ...  120.90                293312           355.17\n",
              "2034  2010-07-21  122.1  123.00  ...  121.55                658666           803.56\n",
              "\n",
              "[5 rows x 8 columns]"
            ]
          },
          "metadata": {},
          "execution_count": 7
        }
      ]
    },
    {
      "cell_type": "code",
      "metadata": {
        "colab": {
          "base_uri": "https://localhost:8080/"
        },
        "id": "biWd82F_PpzA",
        "outputId": "0e79b2af-d50d-4f2a-e569-25b228d89e75"
      },
      "source": [
        "df.info()"
      ],
      "execution_count": 8,
      "outputs": [
        {
          "output_type": "stream",
          "name": "stdout",
          "text": [
            "<class 'pandas.core.frame.DataFrame'>\n",
            "RangeIndex: 2035 entries, 0 to 2034\n",
            "Data columns (total 8 columns):\n",
            " #   Column                Non-Null Count  Dtype  \n",
            "---  ------                --------------  -----  \n",
            " 0   Date                  2035 non-null   object \n",
            " 1   Open                  2035 non-null   float64\n",
            " 2   High                  2035 non-null   float64\n",
            " 3   Low                   2035 non-null   float64\n",
            " 4   Last                  2035 non-null   float64\n",
            " 5   Close                 2035 non-null   float64\n",
            " 6   Total Trade Quantity  2035 non-null   int64  \n",
            " 7   Turnover (Lacs)       2035 non-null   float64\n",
            "dtypes: float64(6), int64(1), object(1)\n",
            "memory usage: 127.3+ KB\n"
          ]
        }
      ]
    },
    {
      "cell_type": "code",
      "metadata": {
        "colab": {
          "base_uri": "https://localhost:8080/"
        },
        "id": "KVTg-9-z8e9E",
        "outputId": "d7c886aa-ee0e-4ed2-eb39-7f9b108e1241"
      },
      "source": [
        "df.shape"
      ],
      "execution_count": 9,
      "outputs": [
        {
          "output_type": "execute_result",
          "data": {
            "text/plain": [
              "(2035, 8)"
            ]
          },
          "metadata": {},
          "execution_count": 9
        }
      ]
    },
    {
      "cell_type": "code",
      "metadata": {
        "colab": {
          "base_uri": "https://localhost:8080/",
          "height": 300
        },
        "id": "Z_lyshJs8hro",
        "outputId": "ca6df69f-72fe-4604-c72c-c0fa90faa59e"
      },
      "source": [
        "df.describe()"
      ],
      "execution_count": 10,
      "outputs": [
        {
          "output_type": "execute_result",
          "data": {
            "text/html": [
              "<div>\n",
              "<style scoped>\n",
              "    .dataframe tbody tr th:only-of-type {\n",
              "        vertical-align: middle;\n",
              "    }\n",
              "\n",
              "    .dataframe tbody tr th {\n",
              "        vertical-align: top;\n",
              "    }\n",
              "\n",
              "    .dataframe thead th {\n",
              "        text-align: right;\n",
              "    }\n",
              "</style>\n",
              "<table border=\"1\" class=\"dataframe\">\n",
              "  <thead>\n",
              "    <tr style=\"text-align: right;\">\n",
              "      <th></th>\n",
              "      <th>Open</th>\n",
              "      <th>High</th>\n",
              "      <th>Low</th>\n",
              "      <th>Last</th>\n",
              "      <th>Close</th>\n",
              "      <th>Total Trade Quantity</th>\n",
              "      <th>Turnover (Lacs)</th>\n",
              "    </tr>\n",
              "  </thead>\n",
              "  <tbody>\n",
              "    <tr>\n",
              "      <th>count</th>\n",
              "      <td>2035.000000</td>\n",
              "      <td>2035.000000</td>\n",
              "      <td>2035.000000</td>\n",
              "      <td>2035.000000</td>\n",
              "      <td>2035.00000</td>\n",
              "      <td>2.035000e+03</td>\n",
              "      <td>2035.000000</td>\n",
              "    </tr>\n",
              "    <tr>\n",
              "      <th>mean</th>\n",
              "      <td>149.713735</td>\n",
              "      <td>151.992826</td>\n",
              "      <td>147.293931</td>\n",
              "      <td>149.474251</td>\n",
              "      <td>149.45027</td>\n",
              "      <td>2.335681e+06</td>\n",
              "      <td>3899.980565</td>\n",
              "    </tr>\n",
              "    <tr>\n",
              "      <th>std</th>\n",
              "      <td>48.664509</td>\n",
              "      <td>49.413109</td>\n",
              "      <td>47.931958</td>\n",
              "      <td>48.732570</td>\n",
              "      <td>48.71204</td>\n",
              "      <td>2.091778e+06</td>\n",
              "      <td>4570.767877</td>\n",
              "    </tr>\n",
              "    <tr>\n",
              "      <th>min</th>\n",
              "      <td>81.100000</td>\n",
              "      <td>82.800000</td>\n",
              "      <td>80.000000</td>\n",
              "      <td>81.000000</td>\n",
              "      <td>80.95000</td>\n",
              "      <td>3.961000e+04</td>\n",
              "      <td>37.040000</td>\n",
              "    </tr>\n",
              "    <tr>\n",
              "      <th>25%</th>\n",
              "      <td>120.025000</td>\n",
              "      <td>122.100000</td>\n",
              "      <td>118.300000</td>\n",
              "      <td>120.075000</td>\n",
              "      <td>120.05000</td>\n",
              "      <td>1.146444e+06</td>\n",
              "      <td>1427.460000</td>\n",
              "    </tr>\n",
              "    <tr>\n",
              "      <th>50%</th>\n",
              "      <td>141.500000</td>\n",
              "      <td>143.400000</td>\n",
              "      <td>139.600000</td>\n",
              "      <td>141.100000</td>\n",
              "      <td>141.25000</td>\n",
              "      <td>1.783456e+06</td>\n",
              "      <td>2512.030000</td>\n",
              "    </tr>\n",
              "    <tr>\n",
              "      <th>75%</th>\n",
              "      <td>157.175000</td>\n",
              "      <td>159.400000</td>\n",
              "      <td>155.150000</td>\n",
              "      <td>156.925000</td>\n",
              "      <td>156.90000</td>\n",
              "      <td>2.813594e+06</td>\n",
              "      <td>4539.015000</td>\n",
              "    </tr>\n",
              "    <tr>\n",
              "      <th>max</th>\n",
              "      <td>327.700000</td>\n",
              "      <td>328.750000</td>\n",
              "      <td>321.650000</td>\n",
              "      <td>325.950000</td>\n",
              "      <td>325.75000</td>\n",
              "      <td>2.919102e+07</td>\n",
              "      <td>55755.080000</td>\n",
              "    </tr>\n",
              "  </tbody>\n",
              "</table>\n",
              "</div>"
            ],
            "text/plain": [
              "              Open         High  ...  Total Trade Quantity  Turnover (Lacs)\n",
              "count  2035.000000  2035.000000  ...          2.035000e+03      2035.000000\n",
              "mean    149.713735   151.992826  ...          2.335681e+06      3899.980565\n",
              "std      48.664509    49.413109  ...          2.091778e+06      4570.767877\n",
              "min      81.100000    82.800000  ...          3.961000e+04        37.040000\n",
              "25%     120.025000   122.100000  ...          1.146444e+06      1427.460000\n",
              "50%     141.500000   143.400000  ...          1.783456e+06      2512.030000\n",
              "75%     157.175000   159.400000  ...          2.813594e+06      4539.015000\n",
              "max     327.700000   328.750000  ...          2.919102e+07     55755.080000\n",
              "\n",
              "[8 rows x 7 columns]"
            ]
          },
          "metadata": {},
          "execution_count": 10
        }
      ]
    },
    {
      "cell_type": "markdown",
      "metadata": {
        "id": "xajsahjJjV7M"
      },
      "source": [
        "**Cheking null value**"
      ]
    },
    {
      "cell_type": "code",
      "metadata": {
        "colab": {
          "base_uri": "https://localhost:8080/"
        },
        "id": "80LaTDa88lci",
        "outputId": "b6498af5-ff7b-4f84-d47f-b1b888930dcf"
      },
      "source": [
        "df.isnull().sum()"
      ],
      "execution_count": 11,
      "outputs": [
        {
          "output_type": "execute_result",
          "data": {
            "text/plain": [
              "Date                    0\n",
              "Open                    0\n",
              "High                    0\n",
              "Low                     0\n",
              "Last                    0\n",
              "Close                   0\n",
              "Total Trade Quantity    0\n",
              "Turnover (Lacs)         0\n",
              "dtype: int64"
            ]
          },
          "metadata": {},
          "execution_count": 11
        }
      ]
    },
    {
      "cell_type": "code",
      "metadata": {
        "colab": {
          "base_uri": "https://localhost:8080/"
        },
        "id": "vpKISSo09eYw",
        "outputId": "e3fded27-d7ae-4c48-bdff-f182e9f5bacd"
      },
      "source": [
        "df.columns"
      ],
      "execution_count": 12,
      "outputs": [
        {
          "output_type": "execute_result",
          "data": {
            "text/plain": [
              "Index(['Date', 'Open', 'High', 'Low', 'Last', 'Close', 'Total Trade Quantity',\n",
              "       'Turnover (Lacs)'],\n",
              "      dtype='object')"
            ]
          },
          "metadata": {},
          "execution_count": 12
        }
      ]
    },
    {
      "cell_type": "markdown",
      "metadata": {
        "id": "GJyWO4-BjZa0"
      },
      "source": [
        "**Checking the varriable distribution type**"
      ]
    },
    {
      "cell_type": "code",
      "metadata": {
        "colab": {
          "base_uri": "https://localhost:8080/",
          "height": 567
        },
        "id": "pXZkgoSt8xcB",
        "outputId": "b8586dbc-3413-4338-ef12-dcbc42e931da"
      },
      "source": [
        "features = df[['Open',  'Close','Total Trade Quantity',\n",
        "       'Turnover (Lacs)']]\n",
        "sns.pairplot(features, hue='Turnover (Lacs)')"
      ],
      "execution_count": 13,
      "outputs": [
        {
          "output_type": "execute_result",
          "data": {
            "text/plain": [
              "<seaborn.axisgrid.PairGrid at 0x7f16db7adf90>"
            ]
          },
          "metadata": {},
          "execution_count": 13
        },
        {
          "output_type": "display_data",
          "data": {
            "image/png": "[encoded data removed]",
            "text/plain": [
              "<Figure size 624.625x540 with 12 Axes>"
            ]
          },
          "metadata": {
            "needs_background": "light"
          }
        }
      ]
    },
    {
      "cell_type": "markdown",
      "metadata": {
        "id": "x4yPbpHSjfGd"
      },
      "source": [
        "**Reset index**"
      ]
    },
    {
      "cell_type": "code",
      "metadata": {
        "colab": {
          "base_uri": "https://localhost:8080/"
        },
        "id": "kOfh2VpDLY0F",
        "outputId": "c8adf8d5-3899-46ec-80a0-df8ad35c7ae0"
      },
      "source": [
        "df1=df.reset_index()['Close']\n",
        "df1"
      ],
      "execution_count": 14,
      "outputs": [
        {
          "output_type": "execute_result",
          "data": {
            "text/plain": [
              "0       233.75\n",
              "1       233.25\n",
              "2       234.25\n",
              "3       236.10\n",
              "4       233.30\n",
              "         ...  \n",
              "2030    118.65\n",
              "2031    117.60\n",
              "2032    120.65\n",
              "2033    120.90\n",
              "2034    121.55\n",
              "Name: Close, Length: 2035, dtype: float64"
            ]
          },
          "metadata": {},
          "execution_count": 14
        }
      ]
    },
    {
      "cell_type": "code",
      "metadata": {
        "colab": {
          "base_uri": "https://localhost:8080/",
          "height": 206
        },
        "id": "Nljj40vIMd0Z",
        "outputId": "f2967a70-90fe-480a-c75f-9b3e8eb9e280"
      },
      "source": [
        "df.head()"
      ],
      "execution_count": 15,
      "outputs": [
        {
          "output_type": "execute_result",
          "data": {
            "text/html": [
              "<div>\n",
              "<style scoped>\n",
              "    .dataframe tbody tr th:only-of-type {\n",
              "        vertical-align: middle;\n",
              "    }\n",
              "\n",
              "    .dataframe tbody tr th {\n",
              "        vertical-align: top;\n",
              "    }\n",
              "\n",
              "    .dataframe thead th {\n",
              "        text-align: right;\n",
              "    }\n",
              "</style>\n",
              "<table border=\"1\" class=\"dataframe\">\n",
              "  <thead>\n",
              "    <tr style=\"text-align: right;\">\n",
              "      <th></th>\n",
              "      <th>Date</th>\n",
              "      <th>Open</th>\n",
              "      <th>High</th>\n",
              "      <th>Low</th>\n",
              "      <th>Last</th>\n",
              "      <th>Close</th>\n",
              "      <th>Total Trade Quantity</th>\n",
              "      <th>Turnover (Lacs)</th>\n",
              "    </tr>\n",
              "  </thead>\n",
              "  <tbody>\n",
              "    <tr>\n",
              "      <th>0</th>\n",
              "      <td>2018-09-28</td>\n",
              "      <td>234.05</td>\n",
              "      <td>235.95</td>\n",
              "      <td>230.20</td>\n",
              "      <td>233.50</td>\n",
              "      <td>233.75</td>\n",
              "      <td>3069914</td>\n",
              "      <td>7162.35</td>\n",
              "    </tr>\n",
              "    <tr>\n",
              "      <th>1</th>\n",
              "      <td>2018-09-27</td>\n",
              "      <td>234.55</td>\n",
              "      <td>236.80</td>\n",
              "      <td>231.10</td>\n",
              "      <td>233.80</td>\n",
              "      <td>233.25</td>\n",
              "      <td>5082859</td>\n",
              "      <td>11859.95</td>\n",
              "    </tr>\n",
              "    <tr>\n",
              "      <th>2</th>\n",
              "      <td>2018-09-26</td>\n",
              "      <td>240.00</td>\n",
              "      <td>240.00</td>\n",
              "      <td>232.50</td>\n",
              "      <td>235.00</td>\n",
              "      <td>234.25</td>\n",
              "      <td>2240909</td>\n",
              "      <td>5248.60</td>\n",
              "    </tr>\n",
              "    <tr>\n",
              "      <th>3</th>\n",
              "      <td>2018-09-25</td>\n",
              "      <td>233.30</td>\n",
              "      <td>236.75</td>\n",
              "      <td>232.00</td>\n",
              "      <td>236.25</td>\n",
              "      <td>236.10</td>\n",
              "      <td>2349368</td>\n",
              "      <td>5503.90</td>\n",
              "    </tr>\n",
              "    <tr>\n",
              "      <th>4</th>\n",
              "      <td>2018-09-24</td>\n",
              "      <td>233.55</td>\n",
              "      <td>239.20</td>\n",
              "      <td>230.75</td>\n",
              "      <td>234.00</td>\n",
              "      <td>233.30</td>\n",
              "      <td>3423509</td>\n",
              "      <td>7999.55</td>\n",
              "    </tr>\n",
              "  </tbody>\n",
              "</table>\n",
              "</div>"
            ],
            "text/plain": [
              "         Date    Open    High  ...   Close  Total Trade Quantity  Turnover (Lacs)\n",
              "0  2018-09-28  234.05  235.95  ...  233.75               3069914          7162.35\n",
              "1  2018-09-27  234.55  236.80  ...  233.25               5082859         11859.95\n",
              "2  2018-09-26  240.00  240.00  ...  234.25               2240909          5248.60\n",
              "3  2018-09-25  233.30  236.75  ...  236.10               2349368          5503.90\n",
              "4  2018-09-24  233.55  239.20  ...  233.30               3423509          7999.55\n",
              "\n",
              "[5 rows x 8 columns]"
            ]
          },
          "metadata": {},
          "execution_count": 15
        }
      ]
    },
    {
      "cell_type": "markdown",
      "metadata": {
        "id": "r5sdHtFkji0z"
      },
      "source": [
        "**Converting the Date from object to Datetime format**"
      ]
    },
    {
      "cell_type": "code",
      "metadata": {
        "colab": {
          "base_uri": "https://localhost:8080/"
        },
        "id": "ZlGpd2zua2ge",
        "outputId": "2135983d-8b38-408a-c5c2-43f22ef40722"
      },
      "source": [
        "df['Date']=pd.to_datetime(df[\"Date\"])\n",
        "df.info()"
      ],
      "execution_count": 16,
      "outputs": [
        {
          "output_type": "stream",
          "name": "stdout",
          "text": [
            "<class 'pandas.core.frame.DataFrame'>\n",
            "RangeIndex: 2035 entries, 0 to 2034\n",
            "Data columns (total 8 columns):\n",
            " #   Column                Non-Null Count  Dtype         \n",
            "---  ------                --------------  -----         \n",
            " 0   Date                  2035 non-null   datetime64[ns]\n",
            " 1   Open                  2035 non-null   float64       \n",
            " 2   High                  2035 non-null   float64       \n",
            " 3   Low                   2035 non-null   float64       \n",
            " 4   Last                  2035 non-null   float64       \n",
            " 5   Close                 2035 non-null   float64       \n",
            " 6   Total Trade Quantity  2035 non-null   int64         \n",
            " 7   Turnover (Lacs)       2035 non-null   float64       \n",
            "dtypes: datetime64[ns](1), float64(6), int64(1)\n",
            "memory usage: 127.3 KB\n"
          ]
        }
      ]
    },
    {
      "cell_type": "code",
      "metadata": {
        "colab": {
          "base_uri": "https://localhost:8080/",
          "height": 206
        },
        "id": "xUF6bB_XYrnf",
        "outputId": "41490d19-f9db-4416-c6e6-20a36493358d"
      },
      "source": [
        "df.head()"
      ],
      "execution_count": 17,
      "outputs": [
        {
          "output_type": "execute_result",
          "data": {
            "text/html": [
              "<div>\n",
              "<style scoped>\n",
              "    .dataframe tbody tr th:only-of-type {\n",
              "        vertical-align: middle;\n",
              "    }\n",
              "\n",
              "    .dataframe tbody tr th {\n",
              "        vertical-align: top;\n",
              "    }\n",
              "\n",
              "    .dataframe thead th {\n",
              "        text-align: right;\n",
              "    }\n",
              "</style>\n",
              "<table border=\"1\" class=\"dataframe\">\n",
              "  <thead>\n",
              "    <tr style=\"text-align: right;\">\n",
              "      <th></th>\n",
              "      <th>Date</th>\n",
              "      <th>Open</th>\n",
              "      <th>High</th>\n",
              "      <th>Low</th>\n",
              "      <th>Last</th>\n",
              "      <th>Close</th>\n",
              "      <th>Total Trade Quantity</th>\n",
              "      <th>Turnover (Lacs)</th>\n",
              "    </tr>\n",
              "  </thead>\n",
              "  <tbody>\n",
              "    <tr>\n",
              "      <th>0</th>\n",
              "      <td>2018-09-28</td>\n",
              "      <td>234.05</td>\n",
              "      <td>235.95</td>\n",
              "      <td>230.20</td>\n",
              "      <td>233.50</td>\n",
              "      <td>233.75</td>\n",
              "      <td>3069914</td>\n",
              "      <td>7162.35</td>\n",
              "    </tr>\n",
              "    <tr>\n",
              "      <th>1</th>\n",
              "      <td>2018-09-27</td>\n",
              "      <td>234.55</td>\n",
              "      <td>236.80</td>\n",
              "      <td>231.10</td>\n",
              "      <td>233.80</td>\n",
              "      <td>233.25</td>\n",
              "      <td>5082859</td>\n",
              "      <td>11859.95</td>\n",
              "    </tr>\n",
              "    <tr>\n",
              "      <th>2</th>\n",
              "      <td>2018-09-26</td>\n",
              "      <td>240.00</td>\n",
              "      <td>240.00</td>\n",
              "      <td>232.50</td>\n",
              "      <td>235.00</td>\n",
              "      <td>234.25</td>\n",
              "      <td>2240909</td>\n",
              "      <td>5248.60</td>\n",
              "    </tr>\n",
              "    <tr>\n",
              "      <th>3</th>\n",
              "      <td>2018-09-25</td>\n",
              "      <td>233.30</td>\n",
              "      <td>236.75</td>\n",
              "      <td>232.00</td>\n",
              "      <td>236.25</td>\n",
              "      <td>236.10</td>\n",
              "      <td>2349368</td>\n",
              "      <td>5503.90</td>\n",
              "    </tr>\n",
              "    <tr>\n",
              "      <th>4</th>\n",
              "      <td>2018-09-24</td>\n",
              "      <td>233.55</td>\n",
              "      <td>239.20</td>\n",
              "      <td>230.75</td>\n",
              "      <td>234.00</td>\n",
              "      <td>233.30</td>\n",
              "      <td>3423509</td>\n",
              "      <td>7999.55</td>\n",
              "    </tr>\n",
              "  </tbody>\n",
              "</table>\n",
              "</div>"
            ],
            "text/plain": [
              "        Date    Open    High  ...   Close  Total Trade Quantity  Turnover (Lacs)\n",
              "0 2018-09-28  234.05  235.95  ...  233.75               3069914          7162.35\n",
              "1 2018-09-27  234.55  236.80  ...  233.25               5082859         11859.95\n",
              "2 2018-09-26  240.00  240.00  ...  234.25               2240909          5248.60\n",
              "3 2018-09-25  233.30  236.75  ...  236.10               2349368          5503.90\n",
              "4 2018-09-24  233.55  239.20  ...  233.30               3423509          7999.55\n",
              "\n",
              "[5 rows x 8 columns]"
            ]
          },
          "metadata": {},
          "execution_count": 17
        }
      ]
    },
    {
      "cell_type": "markdown",
      "metadata": {
        "id": "UD-_lDWhjn-b"
      },
      "source": [
        "**Plotting the varriables**"
      ]
    },
    {
      "cell_type": "code",
      "metadata": {
        "colab": {
          "base_uri": "https://localhost:8080/",
          "height": 623
        },
        "id": "gcdGqT6_iZ_M",
        "outputId": "b93525e4-3772-4b3a-ba65-39599ca72f76"
      },
      "source": [
        "plt.figure(figsize=(20,10))\n",
        "plt.subplot(1,2,1)\n",
        "plt.plot_date(df['Date'],df[\"Open\"], linestyle=\"solid\",color='Blue')\n",
        "plt.xlabel(\"year\")\n",
        "plt.ylabel(\"Open_share_price\")\n",
        "plt.subplot(1,2,2)\n",
        "plt.plot_date(df['Date'],df[\"Low\"], linestyle=\"solid\",color='pink')\n",
        "plt.xlabel(\"year\")\n",
        "plt.ylabel(\"Low_share_price\")"
      ],
      "execution_count": 18,
      "outputs": [
        {
          "output_type": "execute_result",
          "data": {
            "text/plain": [
              "Text(0, 0.5, 'Low_share_price')"
            ]
          },
          "metadata": {},
          "execution_count": 18
        },
        {
          "output_type": "display_data",
          "data": {
            "image/png": "[encoded data removed]",
            "text/plain": [
              "<Figure size 1440x720 with 2 Axes>"
            ]
          },
          "metadata": {
            "needs_background": "light"
          }
        }
      ]
    },
    {
      "cell_type": "code",
      "metadata": {
        "colab": {
          "base_uri": "https://localhost:8080/",
          "height": 623
        },
        "id": "VIhVzhyzYlSQ",
        "outputId": "6c1f15ec-a924-4cbf-b551-c68c76844426"
      },
      "source": [
        "plt.figure(figsize=(20,10))\n",
        "plt.subplot(1,2,1)\n",
        "plt.plot_date(df['Date'],df[\"High\"], linestyle=\"solid\",color='Blue')\n",
        "plt.xlabel(\"year\")\n",
        "plt.ylabel(\"High_share_price\")\n",
        "plt.subplot(1,2,2)\n",
        "plt.plot_date(df['Date'],df[\"Last\"], linestyle=\"solid\",color='pink')\n",
        "plt.xlabel(\"year\")\n",
        "plt.ylabel(\"Last_share_price\")"
      ],
      "execution_count": 19,
      "outputs": [
        {
          "output_type": "execute_result",
          "data": {
            "text/plain": [
              "Text(0, 0.5, 'Last_share_price')"
            ]
          },
          "metadata": {},
          "execution_count": 19
        },
        {
          "output_type": "display_data",
          "data": {
            "image/png": "[encoded data removed]",
            "text/plain": [
              "<Figure size 1440x720 with 2 Axes>"
            ]
          },
          "metadata": {
            "needs_background": "light"
          }
        }
      ]
    },
    {
      "cell_type": "markdown",
      "metadata": {
        "id": "vcQPUVpejrkJ"
      },
      "source": [
        "**Due to almost similar nature of variable pattern ;select close as our predicting independent variable**"
      ]
    },
    {
      "cell_type": "code",
      "metadata": {
        "id": "xFBbSY2GaSXe"
      },
      "source": [
        "df1=df.reset_index()[\"Close\"]"
      ],
      "execution_count": 20,
      "outputs": []
    },
    {
      "cell_type": "code",
      "metadata": {
        "colab": {
          "base_uri": "https://localhost:8080/"
        },
        "id": "SjXgj17UKMgm",
        "outputId": "a5d4da8f-6358-4600-8485-859c5b9c2d0d"
      },
      "source": [
        "df1"
      ],
      "execution_count": 27,
      "outputs": [
        {
          "output_type": "execute_result",
          "data": {
            "text/plain": [
              "0       233.75\n",
              "1       233.25\n",
              "2       234.25\n",
              "3       236.10\n",
              "4       233.30\n",
              "         ...  \n",
              "2030    118.65\n",
              "2031    117.60\n",
              "2032    120.65\n",
              "2033    120.90\n",
              "2034    121.55\n",
              "Name: Close, Length: 2035, dtype: float64"
            ]
          },
          "metadata": {},
          "execution_count": 27
        }
      ]
    },
    {
      "cell_type": "code",
      "metadata": {
        "colab": {
          "base_uri": "https://localhost:8080/",
          "height": 282
        },
        "id": "DIp_Or3VKSYP",
        "outputId": "aecc375f-b283-4c98-dd16-39b9ca8710c4"
      },
      "source": [
        "plt.plot(df1)"
      ],
      "execution_count": 21,
      "outputs": [
        {
          "output_type": "execute_result",
          "data": {
            "text/plain": [
              "[<matplotlib.lines.Line2D at 0x7f16cdfa2050>]"
            ]
          },
          "metadata": {},
          "execution_count": 21
        },
        {
          "output_type": "display_data",
          "data": {
            "image/png": "[encoded data removed]",
            "text/plain": [
              "<Figure size 432x288 with 1 Axes>"
            ]
          },
          "metadata": {
            "needs_background": "light"
          }
        }
      ]
    },
    {
      "cell_type": "markdown",
      "metadata": {
        "id": "rUKHK1Spj1Vr"
      },
      "source": [
        "**Scallinf the value  for better prediction**"
      ]
    },
    {
      "cell_type": "code",
      "metadata": {
        "id": "hc3pHUJ1KoNd"
      },
      "source": [
        "from sklearn.preprocessing import MinMaxScaler\n",
        "scaler = MinMaxScaler(feature_range=(0,1))\n",
        "df1=scaler.fit_transform(np.array(df1).reshape(-1,1))"
      ],
      "execution_count": 22,
      "outputs": []
    },
    {
      "cell_type": "code",
      "metadata": {
        "colab": {
          "base_uri": "https://localhost:8080/"
        },
        "id": "v_irIQT9LIxX",
        "outputId": "223e7183-5ff9-4f0b-c5ef-d4675d1ea5f4"
      },
      "source": [
        "df1"
      ],
      "execution_count": 23,
      "outputs": [
        {
          "output_type": "execute_result",
          "data": {
            "text/plain": [
              "array([[0.62418301],\n",
              "       [0.62214052],\n",
              "       [0.62622549],\n",
              "       ...,\n",
              "       [0.1621732 ],\n",
              "       [0.16319444],\n",
              "       [0.16584967]])"
            ]
          },
          "metadata": {},
          "execution_count": 23
        }
      ]
    },
    {
      "cell_type": "markdown",
      "metadata": {
        "id": "xsHS5CZfj-Y7"
      },
      "source": [
        "**Training of data**"
      ]
    },
    {
      "cell_type": "code",
      "metadata": {
        "id": "qvE4JPJLLVSV"
      },
      "source": [
        "training_size=int(len(df1)*0.65)\n",
        "test_size=len(df1)-training_size\n",
        "train_data,test_data=df1[0:training_size,:],df1[training_size:len(df1),:1]"
      ],
      "execution_count": 24,
      "outputs": []
    },
    {
      "cell_type": "code",
      "metadata": {
        "colab": {
          "base_uri": "https://localhost:8080/"
        },
        "id": "6Vv5pr1wMKRY",
        "outputId": "6942be5c-c71e-468c-eb82-e55d06499259"
      },
      "source": [
        "training_size,test_size"
      ],
      "execution_count": 25,
      "outputs": [
        {
          "output_type": "execute_result",
          "data": {
            "text/plain": [
              "(1322, 713)"
            ]
          },
          "metadata": {},
          "execution_count": 25
        }
      ]
    },
    {
      "cell_type": "code",
      "metadata": {
        "id": "M0ksgiZ2MS49"
      },
      "source": [
        "import numpy\n",
        "def create_dataset(dataset,time_step=1):\n",
        "    dataX, dataY=[],[]\n",
        "    for i in range(len(dataset)-time_step-1):\n",
        "        a= dataset[i:(i+time_step),0]\n",
        "        dataX.append(a)\n",
        "        dataY.append(dataset[i +time_step,0])\n",
        "    return numpy.array(dataX), numpy.array(dataY)"
      ],
      "execution_count": 26,
      "outputs": []
    },
    {
      "cell_type": "code",
      "metadata": {
        "id": "YHnlv0ZJNzsU"
      },
      "source": [
        "time_step=100\n",
        "X_train,y_train=create_dataset(train_data, time_step)\n",
        "X_test,y_test = create_dataset(test_data, time_step)"
      ],
      "execution_count": 27,
      "outputs": []
    },
    {
      "cell_type": "markdown",
      "metadata": {
        "id": "02bWE6WukCu_"
      },
      "source": [
        "**Checking the shape of training and testing set of data**"
      ]
    },
    {
      "cell_type": "code",
      "metadata": {
        "colab": {
          "base_uri": "https://localhost:8080/"
        },
        "id": "PJCr07s5P2G9",
        "outputId": "d62272da-a3d7-4ea9-a9f7-f14b1c0bc75e"
      },
      "source": [
        "print(X_train)"
      ],
      "execution_count": 28,
      "outputs": [
        {
          "output_type": "stream",
          "name": "stdout",
          "text": [
            "[[0.62418301 0.62214052 0.62622549 ... 0.83455882 0.86213235 0.85273693]\n",
            " [0.62214052 0.62622549 0.63378268 ... 0.86213235 0.85273693 0.87111928]\n",
            " [0.62622549 0.63378268 0.62234477 ... 0.85273693 0.87111928 0.84497549]\n",
            " ...\n",
            " [0.34517974 0.31781046 0.33047386 ... 0.2816585  0.27001634 0.26531863]\n",
            " [0.31781046 0.33047386 0.32128268 ... 0.27001634 0.26531863 0.27389706]\n",
            " [0.33047386 0.32128268 0.34007353 ... 0.26531863 0.27389706 0.25347222]]\n"
          ]
        }
      ]
    },
    {
      "cell_type": "code",
      "metadata": {
        "colab": {
          "base_uri": "https://localhost:8080/"
        },
        "id": "hI2EAdySQBYD",
        "outputId": "9c15cab4-e493-4de9-82ab-cbb3e30b388b"
      },
      "source": [
        "print(X_train.shape), print(y_train.shape)"
      ],
      "execution_count": 29,
      "outputs": [
        {
          "output_type": "stream",
          "name": "stdout",
          "text": [
            "(1221, 100)\n",
            "(1221,)\n"
          ]
        },
        {
          "output_type": "execute_result",
          "data": {
            "text/plain": [
              "(None, None)"
            ]
          },
          "metadata": {},
          "execution_count": 29
        }
      ]
    },
    {
      "cell_type": "code",
      "metadata": {
        "colab": {
          "base_uri": "https://localhost:8080/"
        },
        "id": "BjfxEs9rQMbW",
        "outputId": "5e02f5f1-c198-4a2b-92bd-12cbad9537ff"
      },
      "source": [
        "print(X_test.shape), print(y_test.shape)"
      ],
      "execution_count": 30,
      "outputs": [
        {
          "output_type": "stream",
          "name": "stdout",
          "text": [
            "(612, 100)\n",
            "(612,)\n"
          ]
        },
        {
          "output_type": "execute_result",
          "data": {
            "text/plain": [
              "(None, None)"
            ]
          },
          "metadata": {},
          "execution_count": 30
        }
      ]
    },
    {
      "cell_type": "code",
      "metadata": {
        "id": "CC75KxxYQYw8"
      },
      "source": [
        "X_train=X_train.reshape(X_train.shape[0],X_train.shape[1],1)\n",
        "X_test=X_test.reshape(X_test.shape[0],X_test.shape[1],1)"
      ],
      "execution_count": 31,
      "outputs": []
    },
    {
      "cell_type": "markdown",
      "metadata": {
        "id": "_x-D3JO2kJXP"
      },
      "source": [
        "**Importing the tensor flow for neurala network**"
      ]
    },
    {
      "cell_type": "code",
      "metadata": {
        "id": "lkTNFZSWQx6F"
      },
      "source": [
        "from tensorflow.keras.models import Sequential\n",
        "from tensorflow.keras.layers import Dense\n",
        "from tensorflow.keras.layers import LSTM"
      ],
      "execution_count": 32,
      "outputs": []
    },
    {
      "cell_type": "code",
      "metadata": {
        "id": "geuwtd0akQzv"
      },
      "source": [
        ""
      ],
      "execution_count": null,
      "outputs": []
    },
    {
      "cell_type": "markdown",
      "metadata": {
        "id": "LCLTULqckOMV"
      },
      "source": [
        "**Neural network formation**"
      ]
    },
    {
      "cell_type": "code",
      "metadata": {
        "id": "dAUNaMdvRFx8"
      },
      "source": [
        "model=Sequential()\n",
        "model.add(LSTM(50,return_sequences=True,input_shape=(100,1)))\n",
        "model.add(LSTM(50,return_sequences=True))\n",
        "model.add(LSTM(50))\n",
        "model.add(Dense(1)) \n",
        "model.compile(loss='mean_squared_error', optimizer='adam')"
      ],
      "execution_count": 33,
      "outputs": []
    },
    {
      "cell_type": "code",
      "metadata": {
        "colab": {
          "base_uri": "https://localhost:8080/"
        },
        "id": "1cbUXjbVTKxB",
        "outputId": "b7fd6673-7743-43a1-e458-8f03bfb5b70d"
      },
      "source": [
        "model.summary()"
      ],
      "execution_count": 34,
      "outputs": [
        {
          "output_type": "stream",
          "name": "stdout",
          "text": [
            "Model: \"sequential\"\n",
            "_________________________________________________________________\n",
            "Layer (type)                 Output Shape              Param #   \n",
            "=================================================================\n",
            "lstm (LSTM)                  (None, 100, 50)           10400     \n",
            "_________________________________________________________________\n",
            "lstm_1 (LSTM)                (None, 100, 50)           20200     \n",
            "_________________________________________________________________\n",
            "lstm_2 (LSTM)                (None, 50)                20200     \n",
            "_________________________________________________________________\n",
            "dense (Dense)                (None, 1)                 51        \n",
            "=================================================================\n",
            "Total params: 50,851\n",
            "Trainable params: 50,851\n",
            "Non-trainable params: 0\n",
            "_________________________________________________________________\n"
          ]
        }
      ]
    },
    {
      "cell_type": "markdown",
      "metadata": {
        "id": "_cXbBrENkSlb"
      },
      "source": [
        "**Training the model**"
      ]
    },
    {
      "cell_type": "code",
      "metadata": {
        "colab": {
          "base_uri": "https://localhost:8080/"
        },
        "id": "HRr8naXNTNnY",
        "outputId": "e4e925ef-a7b6-4761-bc6b-966abadb416a"
      },
      "source": [
        "model.fit(X_train,y_train, validation_data=(X_test,y_test), epochs=100,batch_size=64, verbose=1)"
      ],
      "execution_count": 35,
      "outputs": [
        {
          "output_type": "stream",
          "name": "stdout",
          "text": [
            "Epoch 1/100\n",
            "20/20 [==============================] - 10s 249ms/step - loss: 0.0320 - val_loss: 0.0023\n",
            "Epoch 2/100\n",
            "20/20 [==============================] - 4s 192ms/step - loss: 0.0047 - val_loss: 8.5104e-04\n",
            "Epoch 3/100\n",
            "20/20 [==============================] - 4s 188ms/step - loss: 0.0017 - val_loss: 7.4422e-04\n",
            "Epoch 4/100\n",
            "20/20 [==============================] - 4s 190ms/step - loss: 0.0016 - val_loss: 0.0010\n",
            "Epoch 5/100\n",
            "20/20 [==============================] - 4s 195ms/step - loss: 0.0014 - val_loss: 9.7494e-04\n",
            "Epoch 6/100\n",
            "20/20 [==============================] - 4s 189ms/step - loss: 0.0014 - val_loss: 8.0037e-04\n",
            "Epoch 7/100\n",
            "20/20 [==============================] - 4s 188ms/step - loss: 0.0016 - val_loss: 9.9185e-04\n",
            "Epoch 8/100\n",
            "20/20 [==============================] - 4s 189ms/step - loss: 0.0014 - val_loss: 0.0012\n",
            "Epoch 9/100\n",
            "20/20 [==============================] - 4s 186ms/step - loss: 0.0012 - val_loss: 9.9521e-04\n",
            "Epoch 10/100\n",
            "20/20 [==============================] - 4s 195ms/step - loss: 0.0011 - val_loss: 8.8739e-04\n",
            "Epoch 11/100\n",
            "20/20 [==============================] - 4s 189ms/step - loss: 0.0011 - val_loss: 7.3503e-04\n",
            "Epoch 12/100\n",
            "20/20 [==============================] - 4s 190ms/step - loss: 0.0016 - val_loss: 0.0012\n",
            "Epoch 13/100\n",
            "20/20 [==============================] - 4s 190ms/step - loss: 0.0012 - val_loss: 8.3194e-04\n",
            "Epoch 14/100\n",
            "20/20 [==============================] - 4s 191ms/step - loss: 9.9549e-04 - val_loss: 7.1056e-04\n",
            "Epoch 15/100\n",
            "20/20 [==============================] - 4s 193ms/step - loss: 9.9628e-04 - val_loss: 8.7404e-04\n",
            "Epoch 16/100\n",
            "20/20 [==============================] - 4s 188ms/step - loss: 9.2034e-04 - val_loss: 8.3522e-04\n",
            "Epoch 17/100\n",
            "20/20 [==============================] - 4s 189ms/step - loss: 8.2831e-04 - val_loss: 8.3316e-04\n",
            "Epoch 18/100\n",
            "20/20 [==============================] - 4s 193ms/step - loss: 8.3265e-04 - val_loss: 0.0010\n",
            "Epoch 19/100\n",
            "20/20 [==============================] - 4s 190ms/step - loss: 0.0010 - val_loss: 6.5918e-04\n",
            "Epoch 20/100\n",
            "20/20 [==============================] - 4s 192ms/step - loss: 7.4363e-04 - val_loss: 6.8420e-04\n",
            "Epoch 21/100\n",
            "20/20 [==============================] - 4s 189ms/step - loss: 7.3482e-04 - val_loss: 7.5790e-04\n",
            "Epoch 22/100\n",
            "20/20 [==============================] - 4s 191ms/step - loss: 7.3215e-04 - val_loss: 7.7790e-04\n",
            "Epoch 23/100\n",
            "20/20 [==============================] - 4s 188ms/step - loss: 8.0301e-04 - val_loss: 6.3505e-04\n",
            "Epoch 24/100\n",
            "20/20 [==============================] - 4s 190ms/step - loss: 7.5995e-04 - val_loss: 7.2527e-04\n",
            "Epoch 25/100\n",
            "20/20 [==============================] - 4s 191ms/step - loss: 6.7477e-04 - val_loss: 8.1452e-04\n",
            "Epoch 26/100\n",
            "20/20 [==============================] - 4s 188ms/step - loss: 6.8605e-04 - val_loss: 5.7203e-04\n",
            "Epoch 27/100\n",
            "20/20 [==============================] - 4s 189ms/step - loss: 6.6737e-04 - val_loss: 6.4266e-04\n",
            "Epoch 28/100\n",
            "20/20 [==============================] - 4s 192ms/step - loss: 6.8514e-04 - val_loss: 7.2338e-04\n",
            "Epoch 29/100\n",
            "20/20 [==============================] - 4s 190ms/step - loss: 6.4365e-04 - val_loss: 8.9118e-04\n",
            "Epoch 30/100\n",
            "20/20 [==============================] - 4s 191ms/step - loss: 7.6539e-04 - val_loss: 9.0157e-04\n",
            "Epoch 31/100\n",
            "20/20 [==============================] - 4s 190ms/step - loss: 7.1126e-04 - val_loss: 8.8218e-04\n",
            "Epoch 32/100\n",
            "20/20 [==============================] - 4s 188ms/step - loss: 6.8210e-04 - val_loss: 5.3243e-04\n",
            "Epoch 33/100\n",
            "20/20 [==============================] - 4s 188ms/step - loss: 5.7632e-04 - val_loss: 7.1369e-04\n",
            "Epoch 34/100\n",
            "20/20 [==============================] - 4s 192ms/step - loss: 5.6614e-04 - val_loss: 7.2052e-04\n",
            "Epoch 35/100\n",
            "20/20 [==============================] - 4s 195ms/step - loss: 5.7567e-04 - val_loss: 5.2989e-04\n",
            "Epoch 36/100\n",
            "20/20 [==============================] - 4s 194ms/step - loss: 0.0011 - val_loss: 4.6562e-04\n",
            "Epoch 37/100\n",
            "20/20 [==============================] - 4s 188ms/step - loss: 5.7097e-04 - val_loss: 6.4836e-04\n",
            "Epoch 38/100\n",
            "20/20 [==============================] - 4s 191ms/step - loss: 5.3781e-04 - val_loss: 5.7365e-04\n",
            "Epoch 39/100\n",
            "20/20 [==============================] - 4s 186ms/step - loss: 5.4849e-04 - val_loss: 7.1218e-04\n",
            "Epoch 40/100\n",
            "20/20 [==============================] - 4s 189ms/step - loss: 5.8507e-04 - val_loss: 5.3240e-04\n",
            "Epoch 41/100\n",
            "20/20 [==============================] - 4s 189ms/step - loss: 5.5021e-04 - val_loss: 4.3891e-04\n",
            "Epoch 42/100\n",
            "20/20 [==============================] - 4s 188ms/step - loss: 5.2891e-04 - val_loss: 6.6124e-04\n",
            "Epoch 43/100\n",
            "20/20 [==============================] - 4s 194ms/step - loss: 7.1915e-04 - val_loss: 9.9090e-04\n",
            "Epoch 44/100\n",
            "20/20 [==============================] - 4s 193ms/step - loss: 7.8359e-04 - val_loss: 6.6711e-04\n",
            "Epoch 45/100\n",
            "20/20 [==============================] - 4s 191ms/step - loss: 5.4800e-04 - val_loss: 6.9033e-04\n",
            "Epoch 46/100\n",
            "20/20 [==============================] - 4s 189ms/step - loss: 5.6211e-04 - val_loss: 6.2319e-04\n",
            "Epoch 47/100\n",
            "20/20 [==============================] - 4s 197ms/step - loss: 4.9248e-04 - val_loss: 4.9984e-04\n",
            "Epoch 48/100\n",
            "20/20 [==============================] - 4s 187ms/step - loss: 4.9162e-04 - val_loss: 5.2304e-04\n",
            "Epoch 49/100\n",
            "20/20 [==============================] - 4s 190ms/step - loss: 5.8610e-04 - val_loss: 7.0005e-04\n",
            "Epoch 50/100\n",
            "20/20 [==============================] - 4s 195ms/step - loss: 5.9327e-04 - val_loss: 4.3609e-04\n",
            "Epoch 51/100\n",
            "20/20 [==============================] - 4s 188ms/step - loss: 4.7758e-04 - val_loss: 4.4922e-04\n",
            "Epoch 52/100\n",
            "20/20 [==============================] - 4s 195ms/step - loss: 4.4632e-04 - val_loss: 4.8788e-04\n",
            "Epoch 53/100\n",
            "20/20 [==============================] - 4s 192ms/step - loss: 6.3777e-04 - val_loss: 7.7919e-04\n",
            "Epoch 54/100\n",
            "20/20 [==============================] - 4s 193ms/step - loss: 6.2214e-04 - val_loss: 5.5494e-04\n",
            "Epoch 55/100\n",
            "20/20 [==============================] - 4s 193ms/step - loss: 4.8568e-04 - val_loss: 5.8244e-04\n",
            "Epoch 56/100\n",
            "20/20 [==============================] - 4s 189ms/step - loss: 4.4087e-04 - val_loss: 4.3537e-04\n",
            "Epoch 57/100\n",
            "20/20 [==============================] - 4s 201ms/step - loss: 4.5667e-04 - val_loss: 5.9406e-04\n",
            "Epoch 58/100\n",
            "20/20 [==============================] - 4s 197ms/step - loss: 4.2290e-04 - val_loss: 3.8529e-04\n",
            "Epoch 59/100\n",
            "20/20 [==============================] - 4s 188ms/step - loss: 4.3576e-04 - val_loss: 3.4523e-04\n",
            "Epoch 60/100\n",
            "20/20 [==============================] - 4s 205ms/step - loss: 3.9710e-04 - val_loss: 5.0974e-04\n",
            "Epoch 61/100\n",
            "20/20 [==============================] - 4s 191ms/step - loss: 4.1246e-04 - val_loss: 3.8477e-04\n",
            "Epoch 62/100\n",
            "20/20 [==============================] - 4s 193ms/step - loss: 4.1912e-04 - val_loss: 3.7126e-04\n",
            "Epoch 63/100\n",
            "20/20 [==============================] - 4s 191ms/step - loss: 3.9523e-04 - val_loss: 3.6882e-04\n",
            "Epoch 64/100\n",
            "20/20 [==============================] - 4s 189ms/step - loss: 3.9040e-04 - val_loss: 4.8814e-04\n",
            "Epoch 65/100\n",
            "20/20 [==============================] - 4s 198ms/step - loss: 4.4962e-04 - val_loss: 3.1100e-04\n",
            "Epoch 66/100\n",
            "20/20 [==============================] - 4s 190ms/step - loss: 4.2734e-04 - val_loss: 4.5449e-04\n",
            "Epoch 67/100\n",
            "20/20 [==============================] - 4s 187ms/step - loss: 3.5145e-04 - val_loss: 3.0003e-04\n",
            "Epoch 68/100\n",
            "20/20 [==============================] - 4s 189ms/step - loss: 4.5629e-04 - val_loss: 3.2124e-04\n",
            "Epoch 69/100\n",
            "20/20 [==============================] - 4s 192ms/step - loss: 3.9136e-04 - val_loss: 4.7689e-04\n",
            "Epoch 70/100\n",
            "20/20 [==============================] - 4s 191ms/step - loss: 3.6460e-04 - val_loss: 3.7259e-04\n",
            "Epoch 71/100\n",
            "20/20 [==============================] - 4s 193ms/step - loss: 3.2524e-04 - val_loss: 2.8325e-04\n",
            "Epoch 72/100\n",
            "20/20 [==============================] - 4s 193ms/step - loss: 3.3793e-04 - val_loss: 2.9421e-04\n",
            "Epoch 73/100\n",
            "20/20 [==============================] - 4s 194ms/step - loss: 3.2738e-04 - val_loss: 2.9511e-04\n",
            "Epoch 74/100\n",
            "20/20 [==============================] - 4s 192ms/step - loss: 3.1048e-04 - val_loss: 3.0028e-04\n",
            "Epoch 75/100\n",
            "20/20 [==============================] - 4s 192ms/step - loss: 3.3325e-04 - val_loss: 3.0685e-04\n",
            "Epoch 76/100\n",
            "20/20 [==============================] - 4s 191ms/step - loss: 3.4960e-04 - val_loss: 2.7355e-04\n",
            "Epoch 77/100\n",
            "20/20 [==============================] - 4s 190ms/step - loss: 3.6193e-04 - val_loss: 2.8753e-04\n",
            "Epoch 78/100\n",
            "20/20 [==============================] - 4s 191ms/step - loss: 4.2141e-04 - val_loss: 3.0844e-04\n",
            "Epoch 79/100\n",
            "20/20 [==============================] - 4s 190ms/step - loss: 3.2832e-04 - val_loss: 2.6039e-04\n",
            "Epoch 80/100\n",
            "20/20 [==============================] - 4s 193ms/step - loss: 3.1534e-04 - val_loss: 3.7494e-04\n",
            "Epoch 81/100\n",
            "20/20 [==============================] - 4s 197ms/step - loss: 3.1531e-04 - val_loss: 2.9498e-04\n",
            "Epoch 82/100\n",
            "20/20 [==============================] - 4s 192ms/step - loss: 3.1032e-04 - val_loss: 3.8254e-04\n",
            "Epoch 83/100\n",
            "20/20 [==============================] - 4s 191ms/step - loss: 3.5458e-04 - val_loss: 2.5233e-04\n",
            "Epoch 84/100\n",
            "20/20 [==============================] - 4s 189ms/step - loss: 2.7639e-04 - val_loss: 2.9740e-04\n",
            "Epoch 85/100\n",
            "20/20 [==============================] - 4s 190ms/step - loss: 4.6136e-04 - val_loss: 4.4173e-04\n",
            "Epoch 86/100\n",
            "20/20 [==============================] - 4s 191ms/step - loss: 3.2388e-04 - val_loss: 2.7081e-04\n",
            "Epoch 87/100\n",
            "20/20 [==============================] - 4s 198ms/step - loss: 2.6650e-04 - val_loss: 2.8142e-04\n",
            "Epoch 88/100\n",
            "20/20 [==============================] - 4s 190ms/step - loss: 2.6098e-04 - val_loss: 2.4427e-04\n",
            "Epoch 89/100\n",
            "20/20 [==============================] - 4s 191ms/step - loss: 2.7550e-04 - val_loss: 2.3537e-04\n",
            "Epoch 90/100\n",
            "20/20 [==============================] - 4s 189ms/step - loss: 2.8842e-04 - val_loss: 2.5048e-04\n",
            "Epoch 91/100\n",
            "20/20 [==============================] - 4s 194ms/step - loss: 2.5486e-04 - val_loss: 2.5296e-04\n",
            "Epoch 92/100\n",
            "20/20 [==============================] - 4s 188ms/step - loss: 2.7713e-04 - val_loss: 2.2187e-04\n",
            "Epoch 93/100\n",
            "20/20 [==============================] - 4s 193ms/step - loss: 2.5716e-04 - val_loss: 2.3389e-04\n",
            "Epoch 94/100\n",
            "20/20 [==============================] - 4s 191ms/step - loss: 2.5481e-04 - val_loss: 2.5411e-04\n",
            "Epoch 95/100\n",
            "20/20 [==============================] - 4s 195ms/step - loss: 3.2519e-04 - val_loss: 2.3302e-04\n",
            "Epoch 96/100\n",
            "20/20 [==============================] - 4s 192ms/step - loss: 3.5021e-04 - val_loss: 2.8297e-04\n",
            "Epoch 97/100\n",
            "20/20 [==============================] - 4s 191ms/step - loss: 2.7838e-04 - val_loss: 2.2806e-04\n",
            "Epoch 98/100\n",
            "20/20 [==============================] - 4s 191ms/step - loss: 3.9020e-04 - val_loss: 3.5292e-04\n",
            "Epoch 99/100\n",
            "20/20 [==============================] - 4s 194ms/step - loss: 3.9273e-04 - val_loss: 2.4337e-04\n",
            "Epoch 100/100\n",
            "20/20 [==============================] - 4s 190ms/step - loss: 2.7962e-04 - val_loss: 2.7454e-04\n"
          ]
        },
        {
          "output_type": "execute_result",
          "data": {
            "text/plain": [
              "<keras.callbacks.History at 0x7f168121b210>"
            ]
          },
          "metadata": {},
          "execution_count": 35
        }
      ]
    },
    {
      "cell_type": "code",
      "metadata": {
        "id": "KdfiB2mJVe-L"
      },
      "source": [
        "import tensorflow as tf"
      ],
      "execution_count": 36,
      "outputs": []
    },
    {
      "cell_type": "code",
      "metadata": {
        "id": "-RJjGzarUpfR"
      },
      "source": [
        "train_predict=model.predict(X_train)\n",
        "test_predict=model.predict(X_test)"
      ],
      "execution_count": 37,
      "outputs": []
    },
    {
      "cell_type": "code",
      "metadata": {
        "id": "CKyr-CODU6AZ"
      },
      "source": [
        "train_predict=scaler.inverse_transform(train_predict)\n",
        "test_predict=scaler.inverse_transform(test_predict)"
      ],
      "execution_count": 39,
      "outputs": []
    },
    {
      "cell_type": "code",
      "metadata": {
        "colab": {
          "base_uri": "https://localhost:8080/"
        },
        "id": "xNhFlk3PVMA3",
        "outputId": "1fd85d87-5d4e-4edd-c60d-3c073b9ea711"
      },
      "source": [
        "import math\n",
        "from sklearn.metrics import mean_squared_error\n",
        "math.sqrt(mean_squared_error(y_test,test_predict))"
      ],
      "execution_count": 40,
      "outputs": [
        {
          "output_type": "execute_result",
          "data": {
            "text/plain": [
              "28719.630518375787"
            ]
          },
          "metadata": {},
          "execution_count": 40
        }
      ]
    },
    {
      "cell_type": "code",
      "metadata": {
        "colab": {
          "base_uri": "https://localhost:8080/"
        },
        "id": "dXfHadS9Vnni",
        "outputId": "d9c4f692-f8a3-480a-e481-47dd539df7a1"
      },
      "source": [
        "math.sqrt(mean_squared_error(y_test,test_predict))"
      ],
      "execution_count": 41,
      "outputs": [
        {
          "output_type": "execute_result",
          "data": {
            "text/plain": [
              "28719.630518375787"
            ]
          },
          "metadata": {},
          "execution_count": 41
        }
      ]
    },
    {
      "cell_type": "code",
      "metadata": {
        "colab": {
          "base_uri": "https://localhost:8080/",
          "height": 265
        },
        "id": "Z3KgCGY7V3dy",
        "outputId": "cf2e0c3d-4afc-411c-fca9-137f24d68b94"
      },
      "source": [
        "look_back=100\n",
        "trainPredictPlot=numpy.empty_like(df1)\n",
        "trainPredictPlot[:, :]= np.nan\n",
        "trainPredictPlot[look_back:len(train_predict)+look_back, :]= train_predict\n",
        "\n",
        "testPredictPlot=numpy.empty_like(df1)\n",
        "testPredictPlot[:, :]= np.nan\n",
        "testPredictPlot[len(train_predict)+(look_back*2)+1:len(df1)-1,:]= test_predict\n",
        "\n",
        "plt.plot(scaler.inverse_transform(df1))\n",
        "plt.plot(trainPredictPlot)\n",
        "plt.plot(testPredictPlot)\n",
        "plt.show()"
      ],
      "execution_count": 42,
      "outputs": [
        {
          "output_type": "display_data",
          "data": {
            "image/png": "[encoded data removed]",
            "text/plain": [
              "<Figure size 432x288 with 1 Axes>"
            ]
          },
          "metadata": {
            "needs_background": "light"
          }
        }
      ]
    },
    {
      "cell_type": "markdown",
      "metadata": {
        "id": "UyuQ0jYRkWLz"
      },
      "source": [
        "**Prediction pattern in green color**"
      ]
    },
    {
      "cell_type": "markdown",
      "metadata": {
        "id": "slogszvAlbJb"
      },
      "source": [
        ""
      ]
    }
  ]
}